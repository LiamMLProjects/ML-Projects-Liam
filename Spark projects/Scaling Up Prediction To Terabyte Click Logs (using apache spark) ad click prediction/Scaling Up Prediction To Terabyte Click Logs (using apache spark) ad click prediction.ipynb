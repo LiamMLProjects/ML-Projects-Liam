{
 "cells": [
  {
   "cell_type": "code",
   "execution_count": 1,
   "id": "86f6ecb9",
   "metadata": {},
   "outputs": [
    {
     "name": "stderr",
     "output_type": "stream",
     "text": [
      "Using Spark's default log4j profile: org/apache/spark/log4j-defaults.properties\n",
      "Setting default log level to \"WARN\".\n",
      "To adjust logging level use sc.setLogLevel(newLevel). For SparkR, use setLogLevel(newLevel).\n",
      "23/08/06 18:47:27 WARN NativeCodeLoader: Unable to load native-hadoop library for your platform... using builtin-java classes where applicable\n"
     ]
    }
   ],
   "source": [
    "from pyspark.sql import SparkSession\n",
    "\n",
    "\n",
    "spark = SparkSession\\\n",
    "    .builder\\\n",
    "    .appName(\"CTR\")\\\n",
    "    .getOrCreate()\n"
   ]
  },
  {
   "cell_type": "code",
   "execution_count": 2,
   "id": "bad500c6",
   "metadata": {},
   "outputs": [],
   "source": [
    "from pyspark.sql.types import StructField, StringType, StructType, IntegerType"
   ]
  },
  {
   "cell_type": "code",
   "execution_count": 3,
   "id": "f3991300",
   "metadata": {},
   "outputs": [],
   "source": [
    "schema = StructType([\n",
    "    StructField(\"id\", StringType(), True),\n",
    "    StructField(\"click\", IntegerType(), True),\n",
    "    StructField(\"hour\", IntegerType(), True),\n",
    "    StructField(\"C1\", StringType(), True),\n",
    "    StructField(\"banner_pos\", StringType(), True),\n",
    "    StructField(\"site_id\", StringType(), True),\n",
    "    StructField(\"site_domain\", StringType(), True),\n",
    "    StructField(\"site_category\", StringType(), True),\n",
    "    StructField(\"app_id\", StringType(), True),\n",
    "    StructField(\"app_domain\", StringType(), True),\n",
    "    StructField(\"app_category\", StringType(), True),\n",
    "    StructField(\"device_id\", StringType(), True),\n",
    "    StructField(\"device_ip\", StringType(), True),\n",
    "    StructField(\"device_model\", StringType(), True),\n",
    "    StructField(\"device_type\", StringType(), True),\n",
    "    StructField(\"device_conn_type\", StringType(), True),\n",
    "    StructField(\"C14\", StringType(), True),\n",
    "    StructField(\"C15\", StringType(), True),\n",
    "    StructField(\"C16\", StringType(), True),\n",
    "    StructField(\"C17\", StringType(), True),\n",
    "    StructField(\"C18\", StringType(), True),\n",
    "    StructField(\"C19\", StringType(), True),\n",
    "    StructField(\"C20\", StringType(), True),\n",
    "    StructField(\"C21\", StringType(), True),\n",
    "])\n"
   ]
  },
  {
   "cell_type": "code",
   "execution_count": 4,
   "id": "7d3e27e3",
   "metadata": {},
   "outputs": [],
   "source": [
    "df = spark.read.csv(\"desktop/train.csv\", schema=schema, header=True)"
   ]
  },
  {
   "cell_type": "code",
   "execution_count": 5,
   "id": "2e4f273a",
   "metadata": {},
   "outputs": [
    {
     "name": "stdout",
     "output_type": "stream",
     "text": [
      "root\n",
      " |-- id: string (nullable = true)\n",
      " |-- click: integer (nullable = true)\n",
      " |-- hour: integer (nullable = true)\n",
      " |-- C1: string (nullable = true)\n",
      " |-- banner_pos: string (nullable = true)\n",
      " |-- site_id: string (nullable = true)\n",
      " |-- site_domain: string (nullable = true)\n",
      " |-- site_category: string (nullable = true)\n",
      " |-- app_id: string (nullable = true)\n",
      " |-- app_domain: string (nullable = true)\n",
      " |-- app_category: string (nullable = true)\n",
      " |-- device_id: string (nullable = true)\n",
      " |-- device_ip: string (nullable = true)\n",
      " |-- device_model: string (nullable = true)\n",
      " |-- device_type: string (nullable = true)\n",
      " |-- device_conn_type: string (nullable = true)\n",
      " |-- C14: string (nullable = true)\n",
      " |-- C15: string (nullable = true)\n",
      " |-- C16: string (nullable = true)\n",
      " |-- C17: string (nullable = true)\n",
      " |-- C18: string (nullable = true)\n",
      " |-- C19: string (nullable = true)\n",
      " |-- C20: string (nullable = true)\n",
      " |-- C21: string (nullable = true)\n",
      "\n"
     ]
    }
   ],
   "source": [
    "df.printSchema()"
   ]
  },
  {
   "cell_type": "code",
   "execution_count": 6,
   "id": "dc0bdcf9",
   "metadata": {},
   "outputs": [
    {
     "name": "stderr",
     "output_type": "stream",
     "text": [
      "                                                                                \r"
     ]
    },
    {
     "data": {
      "text/plain": [
       "40428967"
      ]
     },
     "execution_count": 6,
     "metadata": {},
     "output_type": "execute_result"
    }
   ],
   "source": [
    "df.count()"
   ]
  },
  {
   "cell_type": "code",
   "execution_count": 7,
   "id": "70a77b90",
   "metadata": {},
   "outputs": [],
   "source": [
    "df = df.drop('id').drop('hour').drop('device_id').drop('device_ip')"
   ]
  },
  {
   "cell_type": "code",
   "execution_count": 8,
   "id": "4051c86e",
   "metadata": {},
   "outputs": [],
   "source": [
    "df = df.withColumnRenamed(\"click\", \"label\")"
   ]
  },
  {
   "cell_type": "code",
   "execution_count": 9,
   "id": "ed5305bc",
   "metadata": {},
   "outputs": [
    {
     "data": {
      "text/plain": [
       "['label',\n",
       " 'C1',\n",
       " 'banner_pos',\n",
       " 'site_id',\n",
       " 'site_domain',\n",
       " 'site_category',\n",
       " 'app_id',\n",
       " 'app_domain',\n",
       " 'app_category',\n",
       " 'device_model',\n",
       " 'device_type',\n",
       " 'device_conn_type',\n",
       " 'C14',\n",
       " 'C15',\n",
       " 'C16',\n",
       " 'C17',\n",
       " 'C18',\n",
       " 'C19',\n",
       " 'C20',\n",
       " 'C21']"
      ]
     },
     "execution_count": 9,
     "metadata": {},
     "output_type": "execute_result"
    }
   ],
   "source": [
    "df.columns"
   ]
  },
  {
   "cell_type": "code",
   "execution_count": 10,
   "id": "308bc77b",
   "metadata": {},
   "outputs": [],
   "source": [
    "df_train, df_test = df.randomSplit([0.7, 0.3], 42)\n"
   ]
  },
  {
   "cell_type": "code",
   "execution_count": null,
   "id": "2485b865",
   "metadata": {},
   "outputs": [],
   "source": []
  },
  {
   "cell_type": "code",
   "execution_count": 11,
   "id": "2ef4c9bb",
   "metadata": {},
   "outputs": [
    {
     "name": "stderr",
     "output_type": "stream",
     "text": [
      "                                                                                \r"
     ]
    },
    {
     "data": {
      "text/plain": [
       "28303473"
      ]
     },
     "execution_count": 11,
     "metadata": {},
     "output_type": "execute_result"
    }
   ],
   "source": [
    "df_train.cache()\n",
    "df_train.count()\n"
   ]
  },
  {
   "cell_type": "code",
   "execution_count": 12,
   "id": "9f2f2307",
   "metadata": {},
   "outputs": [
    {
     "name": "stderr",
     "output_type": "stream",
     "text": [
      "                                                                                \r"
     ]
    },
    {
     "data": {
      "text/plain": [
       "12125494"
      ]
     },
     "execution_count": 12,
     "metadata": {},
     "output_type": "execute_result"
    }
   ],
   "source": [
    "df_test.cache()\n",
    "df_test.count()"
   ]
  },
  {
   "cell_type": "code",
   "execution_count": 13,
   "id": "f9fc1a34",
   "metadata": {},
   "outputs": [
    {
     "name": "stdout",
     "output_type": "stream",
     "text": [
      "['C1', 'banner_pos', 'site_id', 'site_domain', 'site_category', 'app_id', 'app_domain', 'app_category', 'device_model', 'device_type', 'device_conn_type', 'C14', 'C15', 'C16', 'C17', 'C18', 'C19', 'C20', 'C21']\n"
     ]
    }
   ],
   "source": [
    "categorical = df_train.columns\n",
    "categorical.remove('label')\n",
    "print(categorical)"
   ]
  },
  {
   "cell_type": "code",
   "execution_count": 14,
   "id": "148f9cb0",
   "metadata": {},
   "outputs": [],
   "source": [
    "from pyspark.ml.feature import StringIndexer, VectorAssembler, OneHotEncoder\n"
   ]
  },
  {
   "cell_type": "code",
   "execution_count": 15,
   "id": "01606e2e",
   "metadata": {},
   "outputs": [],
   "source": [
    "indexers = [\n",
    "    StringIndexer(inputCol=c, outputCol=\"{0}_indexed\".format(c)).setHandleInvalid(\"keep\")\n",
    "    for c in categorical\n",
    "]"
   ]
  },
  {
   "cell_type": "code",
   "execution_count": null,
   "id": "adfc5e45",
   "metadata": {},
   "outputs": [],
   "source": []
  },
  {
   "cell_type": "code",
   "execution_count": 16,
   "id": "bc2bbf18",
   "metadata": {},
   "outputs": [],
   "source": [
    "encoder = OneHotEncoder(\n",
    "    inputCols=[indexer.getOutputCol() for indexer in indexers],\n",
    "    outputCols=[\n",
    "        \"{0}_encoded\".format(indexer.getOutputCol()) for indexer in indexers]\n",
    ")"
   ]
  },
  {
   "cell_type": "code",
   "execution_count": 17,
   "id": "6f40549c",
   "metadata": {},
   "outputs": [],
   "source": [
    "assembler = VectorAssembler(\n",
    "    inputCols=encoder.getOutputCols(),\n",
    "    outputCol=\"features\"\n",
    ")\n"
   ]
  },
  {
   "cell_type": "code",
   "execution_count": 18,
   "id": "1ff59825",
   "metadata": {},
   "outputs": [
    {
     "name": "stderr",
     "output_type": "stream",
     "text": [
      "                                                                                \r"
     ]
    }
   ],
   "source": [
    "stages = indexers + [encoder, assembler]\n",
    "\n",
    "from pyspark.ml import Pipeline\n",
    "\n",
    "\n",
    "pipeline = Pipeline(stages=stages)\n",
    "\n",
    "\n",
    "one_hot_encoder = pipeline.fit(df_train)\n"
   ]
  },
  {
   "cell_type": "code",
   "execution_count": 19,
   "id": "39df72d8",
   "metadata": {},
   "outputs": [
    {
     "name": "stderr",
     "output_type": "stream",
     "text": [
      "23/08/06 18:52:58 WARN package: Truncated the string representation of a plan since it was too large. This behavior can be adjusted by setting 'spark.sql.debug.maxToStringFields'.\n",
      "23/08/06 18:52:59 WARN DAGScheduler: Broadcasting large task binary with size 5.0 MiB\n",
      "[Stage 66:>                                                         (0 + 1) / 1]\r"
     ]
    },
    {
     "name": "stdout",
     "output_type": "stream",
     "text": [
      "+-----+----+----------+--------+-----------+-------------+--------+----------+------------+------------+-----------+----------------+-----+---+---+----+---+---+------+---+----------+------------------+---------------+-------------------+---------------------+--------------+------------------+--------------------+--------------------+-------------------+------------------------+-----------+-----------+-----------+-----------+-----------+-----------+-----------+-----------+------------------+--------------------------+-----------------------+---------------------------+-----------------------------+----------------------+--------------------------+----------------------------+----------------------------+---------------------------+--------------------------------+-------------------+-------------------+-------------------+-------------------+-------------------+-------------------+-------------------+-------------------+--------------------+\n",
      "|label|  C1|banner_pos| site_id|site_domain|site_category|  app_id|app_domain|app_category|device_model|device_type|device_conn_type|  C14|C15|C16| C17|C18|C19|   C20|C21|C1_indexed|banner_pos_indexed|site_id_indexed|site_domain_indexed|site_category_indexed|app_id_indexed|app_domain_indexed|app_category_indexed|device_model_indexed|device_type_indexed|device_conn_type_indexed|C14_indexed|C15_indexed|C16_indexed|C17_indexed|C18_indexed|C19_indexed|C20_indexed|C21_indexed|C1_indexed_encoded|banner_pos_indexed_encoded|site_id_indexed_encoded|site_domain_indexed_encoded|site_category_indexed_encoded|app_id_indexed_encoded|app_domain_indexed_encoded|app_category_indexed_encoded|device_model_indexed_encoded|device_type_indexed_encoded|device_conn_type_indexed_encoded|C14_indexed_encoded|C15_indexed_encoded|C16_indexed_encoded|C17_indexed_encoded|C18_indexed_encoded|C19_indexed_encoded|C20_indexed_encoded|C21_indexed_encoded|            features|\n",
      "+-----+----+----------+--------+-----------+-------------+--------+----------+------------+------------+-----------+----------------+-----+---+---+----+---+---+------+---+----------+------------------+---------------+-------------------+---------------------+--------------+------------------+--------------------+--------------------+-------------------+------------------------+-----------+-----------+-----------+-----------+-----------+-----------+-----------+-----------+------------------+--------------------------+-----------------------+---------------------------+-----------------------------+----------------------+--------------------------+----------------------------+----------------------------+---------------------------+--------------------------------+-------------------+-------------------+-------------------+-------------------+-------------------+-------------------+-------------------+-------------------+--------------------+\n",
      "|    0|1001|         0|37ecc00c|   c4e18dd6|     110ab22d|ecad2386|  7801e8d9|    07d7df22|    f07e20f8|          1|               0|20153|320| 50|2307|  3|163|100020| 61|       5.0|               0.0|         3744.0|                0.0|                 23.0|           0.0|               0.0|                 0.0|                19.0|                0.0|                     0.0|      211.0|        0.0|        0.0|      136.0|        1.0|        7.0|       34.0|        5.0|     (7,[5],[1.0])|             (7,[0],[1.0])|    (4543,[3744],[1.0])|           (7067,[0],[1.0])|              (26,[23],[1.0])|      (7991,[0],[1.0])|           (517,[0],[1.0])|              (36,[0],[1.0])|           (7967,[19],[1.0])|              (5,[0],[1.0])|                   (4,[0],[1.0])| (2607,[211],[1.0])|      (8,[0],[1.0])|      (9,[0],[1.0])|  (434,[136],[1.0])|      (4,[1],[1.0])|     (68,[7],[1.0])|   (172,[34],[1.0])|     (60,[5],[1.0])|(31532,[5,7,3758,...|\n",
      "|    0|1001|         0|51a8ceda|   c4e18dd6|     bcf865d9|ecad2386|  7801e8d9|    07d7df22|    f07e20f8|          1|               0|17877|320| 50|2036|  3| 47|100021|156|       5.0|               0.0|          778.0|                0.0|                 17.0|           0.0|               0.0|                 0.0|                19.0|                0.0|                     0.0|       63.0|        0.0|        0.0|       33.0|        1.0|        4.0|       49.0|       19.0|     (7,[5],[1.0])|             (7,[0],[1.0])|     (4543,[778],[1.0])|           (7067,[0],[1.0])|              (26,[17],[1.0])|      (7991,[0],[1.0])|           (517,[0],[1.0])|              (36,[0],[1.0])|           (7967,[19],[1.0])|              (5,[0],[1.0])|                   (4,[0],[1.0])|  (2607,[63],[1.0])|      (8,[0],[1.0])|      (9,[0],[1.0])|   (434,[33],[1.0])|      (4,[1],[1.0])|     (68,[4],[1.0])|   (172,[49],[1.0])|    (60,[19],[1.0])|(31532,[5,7,792,4...|\n",
      "|    0|1001|         0|51a8ceda|   c4e18dd6|     bcf865d9|ecad2386|  7801e8d9|    07d7df22|    f07e20f8|          1|               0|20153|320| 50|2307|  3|163|    -1| 61|       5.0|               0.0|          778.0|                0.0|                 17.0|           0.0|               0.0|                 0.0|                19.0|                0.0|                     0.0|      211.0|        0.0|        0.0|      136.0|        1.0|        7.0|        0.0|        5.0|     (7,[5],[1.0])|             (7,[0],[1.0])|     (4543,[778],[1.0])|           (7067,[0],[1.0])|              (26,[17],[1.0])|      (7991,[0],[1.0])|           (517,[0],[1.0])|              (36,[0],[1.0])|           (7967,[19],[1.0])|              (5,[0],[1.0])|                   (4,[0],[1.0])| (2607,[211],[1.0])|      (8,[0],[1.0])|      (9,[0],[1.0])|  (434,[136],[1.0])|      (4,[1],[1.0])|     (68,[7],[1.0])|    (172,[0],[1.0])|     (60,[5],[1.0])|(31532,[5,7,792,4...|\n",
      "|    0|1001|         0|51a8ceda|   c4e18dd6|     bcf865d9|ecad2386|  7801e8d9|    07d7df22|    f07e20f8|          1|               0|20153|320| 50|2307|  3|163|100020| 61|       5.0|               0.0|          778.0|                0.0|                 17.0|           0.0|               0.0|                 0.0|                19.0|                0.0|                     0.0|      211.0|        0.0|        0.0|      136.0|        1.0|        7.0|       34.0|        5.0|     (7,[5],[1.0])|             (7,[0],[1.0])|     (4543,[778],[1.0])|           (7067,[0],[1.0])|              (26,[17],[1.0])|      (7991,[0],[1.0])|           (517,[0],[1.0])|              (36,[0],[1.0])|           (7967,[19],[1.0])|              (5,[0],[1.0])|                   (4,[0],[1.0])| (2607,[211],[1.0])|      (8,[0],[1.0])|      (9,[0],[1.0])|  (434,[136],[1.0])|      (4,[1],[1.0])|     (68,[7],[1.0])|   (172,[34],[1.0])|     (60,[5],[1.0])|(31532,[5,7,792,4...|\n",
      "|    0|1001|         0|51a8ceda|   c4e18dd6|     bcf865d9|ecad2386|  7801e8d9|    07d7df22|    f07e20f8|          1|               0|20153|320| 50|2307|  3|163|100020| 61|       5.0|               0.0|          778.0|                0.0|                 17.0|           0.0|               0.0|                 0.0|                19.0|                0.0|                     0.0|      211.0|        0.0|        0.0|      136.0|        1.0|        7.0|       34.0|        5.0|     (7,[5],[1.0])|             (7,[0],[1.0])|     (4543,[778],[1.0])|           (7067,[0],[1.0])|              (26,[17],[1.0])|      (7991,[0],[1.0])|           (517,[0],[1.0])|              (36,[0],[1.0])|           (7967,[19],[1.0])|              (5,[0],[1.0])|                   (4,[0],[1.0])| (2607,[211],[1.0])|      (8,[0],[1.0])|      (9,[0],[1.0])|  (434,[136],[1.0])|      (4,[1],[1.0])|     (68,[7],[1.0])|   (172,[34],[1.0])|     (60,[5],[1.0])|(31532,[5,7,792,4...|\n",
      "|    0|1001|         0|51a8ceda|   c4e18dd6|     bcf865d9|ecad2386|  7801e8d9|    07d7df22|    f07e20f8|          1|               0|20153|320| 50|2307|  3|163|100020| 61|       5.0|               0.0|          778.0|                0.0|                 17.0|           0.0|               0.0|                 0.0|                19.0|                0.0|                     0.0|      211.0|        0.0|        0.0|      136.0|        1.0|        7.0|       34.0|        5.0|     (7,[5],[1.0])|             (7,[0],[1.0])|     (4543,[778],[1.0])|           (7067,[0],[1.0])|              (26,[17],[1.0])|      (7991,[0],[1.0])|           (517,[0],[1.0])|              (36,[0],[1.0])|           (7967,[19],[1.0])|              (5,[0],[1.0])|                   (4,[0],[1.0])| (2607,[211],[1.0])|      (8,[0],[1.0])|      (9,[0],[1.0])|  (434,[136],[1.0])|      (4,[1],[1.0])|     (68,[7],[1.0])|   (172,[34],[1.0])|     (60,[5],[1.0])|(31532,[5,7,792,4...|\n",
      "|    0|1001|         0|51a8ceda|   c4e18dd6|     bcf865d9|ecad2386|  7801e8d9|    07d7df22|    f07e20f8|          1|               2|20153|320| 50|2307|  3|163|    -1| 61|       5.0|               0.0|          778.0|                0.0|                 17.0|           0.0|               0.0|                 0.0|                19.0|                0.0|                     1.0|      211.0|        0.0|        0.0|      136.0|        1.0|        7.0|        0.0|        5.0|     (7,[5],[1.0])|             (7,[0],[1.0])|     (4543,[778],[1.0])|           (7067,[0],[1.0])|              (26,[17],[1.0])|      (7991,[0],[1.0])|           (517,[0],[1.0])|              (36,[0],[1.0])|           (7967,[19],[1.0])|              (5,[0],[1.0])|                   (4,[1],[1.0])| (2607,[211],[1.0])|      (8,[0],[1.0])|      (9,[0],[1.0])|  (434,[136],[1.0])|      (4,[1],[1.0])|     (68,[7],[1.0])|    (172,[0],[1.0])|     (60,[5],[1.0])|(31532,[5,7,792,4...|\n",
      "|    0|1001|         0|51a8ceda|   c4e18dd6|     bcf865d9|ecad2386|  7801e8d9|    07d7df22|    f07e20f8|          1|               2|20153|320| 50|2307|  3|163|    -1| 61|       5.0|               0.0|          778.0|                0.0|                 17.0|           0.0|               0.0|                 0.0|                19.0|                0.0|                     1.0|      211.0|        0.0|        0.0|      136.0|        1.0|        7.0|        0.0|        5.0|     (7,[5],[1.0])|             (7,[0],[1.0])|     (4543,[778],[1.0])|           (7067,[0],[1.0])|              (26,[17],[1.0])|      (7991,[0],[1.0])|           (517,[0],[1.0])|              (36,[0],[1.0])|           (7967,[19],[1.0])|              (5,[0],[1.0])|                   (4,[1],[1.0])| (2607,[211],[1.0])|      (8,[0],[1.0])|      (9,[0],[1.0])|  (434,[136],[1.0])|      (4,[1],[1.0])|     (68,[7],[1.0])|    (172,[0],[1.0])|     (60,[5],[1.0])|(31532,[5,7,792,4...|\n",
      "|    0|1001|         0|51a8ceda|   c4e18dd6|     bcf865d9|ecad2386|  7801e8d9|    07d7df22|    f07e20f8|          1|               2|20153|320| 50|2307|  3|163|    -1| 61|       5.0|               0.0|          778.0|                0.0|                 17.0|           0.0|               0.0|                 0.0|                19.0|                0.0|                     1.0|      211.0|        0.0|        0.0|      136.0|        1.0|        7.0|        0.0|        5.0|     (7,[5],[1.0])|             (7,[0],[1.0])|     (4543,[778],[1.0])|           (7067,[0],[1.0])|              (26,[17],[1.0])|      (7991,[0],[1.0])|           (517,[0],[1.0])|              (36,[0],[1.0])|           (7967,[19],[1.0])|              (5,[0],[1.0])|                   (4,[1],[1.0])| (2607,[211],[1.0])|      (8,[0],[1.0])|      (9,[0],[1.0])|  (434,[136],[1.0])|      (4,[1],[1.0])|     (68,[7],[1.0])|    (172,[0],[1.0])|     (60,[5],[1.0])|(31532,[5,7,792,4...|\n",
      "|    0|1001|         0|51a8ceda|   c4e18dd6|     bcf865d9|ecad2386|  7801e8d9|    07d7df22|    f07e20f8|          1|               2|20153|320| 50|2307|  3|163|    -1| 61|       5.0|               0.0|          778.0|                0.0|                 17.0|           0.0|               0.0|                 0.0|                19.0|                0.0|                     1.0|      211.0|        0.0|        0.0|      136.0|        1.0|        7.0|        0.0|        5.0|     (7,[5],[1.0])|             (7,[0],[1.0])|     (4543,[778],[1.0])|           (7067,[0],[1.0])|              (26,[17],[1.0])|      (7991,[0],[1.0])|           (517,[0],[1.0])|              (36,[0],[1.0])|           (7967,[19],[1.0])|              (5,[0],[1.0])|                   (4,[1],[1.0])| (2607,[211],[1.0])|      (8,[0],[1.0])|      (9,[0],[1.0])|  (434,[136],[1.0])|      (4,[1],[1.0])|     (68,[7],[1.0])|    (172,[0],[1.0])|     (60,[5],[1.0])|(31532,[5,7,792,4...|\n",
      "|    0|1001|         0|51a8ceda|   c4e18dd6|     bcf865d9|ecad2386|  7801e8d9|    07d7df22|    f07e20f8|          1|               2|20153|320| 50|2307|  3|163|100020| 61|       5.0|               0.0|          778.0|                0.0|                 17.0|           0.0|               0.0|                 0.0|                19.0|                0.0|                     1.0|      211.0|        0.0|        0.0|      136.0|        1.0|        7.0|       34.0|        5.0|     (7,[5],[1.0])|             (7,[0],[1.0])|     (4543,[778],[1.0])|           (7067,[0],[1.0])|              (26,[17],[1.0])|      (7991,[0],[1.0])|           (517,[0],[1.0])|              (36,[0],[1.0])|           (7967,[19],[1.0])|              (5,[0],[1.0])|                   (4,[1],[1.0])| (2607,[211],[1.0])|      (8,[0],[1.0])|      (9,[0],[1.0])|  (434,[136],[1.0])|      (4,[1],[1.0])|     (68,[7],[1.0])|   (172,[34],[1.0])|     (60,[5],[1.0])|(31532,[5,7,792,4...|\n",
      "|    0|1001|         0|52c718ba|   c4e18dd6|     9ccfa2ea|ecad2386|  7801e8d9|    07d7df22|    f07e20f8|          1|               0|20153|320| 50|2307|  3|163|100020| 61|       5.0|               0.0|         1308.0|                0.0|                 19.0|           0.0|               0.0|                 0.0|                19.0|                0.0|                     0.0|      211.0|        0.0|        0.0|      136.0|        1.0|        7.0|       34.0|        5.0|     (7,[5],[1.0])|             (7,[0],[1.0])|    (4543,[1308],[1.0])|           (7067,[0],[1.0])|              (26,[19],[1.0])|      (7991,[0],[1.0])|           (517,[0],[1.0])|              (36,[0],[1.0])|           (7967,[19],[1.0])|              (5,[0],[1.0])|                   (4,[0],[1.0])| (2607,[211],[1.0])|      (8,[0],[1.0])|      (9,[0],[1.0])|  (434,[136],[1.0])|      (4,[1],[1.0])|     (68,[7],[1.0])|   (172,[34],[1.0])|     (60,[5],[1.0])|(31532,[5,7,1322,...|\n",
      "|    0|1001|         0|52c718ba|   c4e18dd6|     9ccfa2ea|ecad2386|  7801e8d9|    07d7df22|    f07e20f8|          1|               0|20153|320| 50|2307|  3|163|100020| 61|       5.0|               0.0|         1308.0|                0.0|                 19.0|           0.0|               0.0|                 0.0|                19.0|                0.0|                     0.0|      211.0|        0.0|        0.0|      136.0|        1.0|        7.0|       34.0|        5.0|     (7,[5],[1.0])|             (7,[0],[1.0])|    (4543,[1308],[1.0])|           (7067,[0],[1.0])|              (26,[19],[1.0])|      (7991,[0],[1.0])|           (517,[0],[1.0])|              (36,[0],[1.0])|           (7967,[19],[1.0])|              (5,[0],[1.0])|                   (4,[0],[1.0])| (2607,[211],[1.0])|      (8,[0],[1.0])|      (9,[0],[1.0])|  (434,[136],[1.0])|      (4,[1],[1.0])|     (68,[7],[1.0])|   (172,[34],[1.0])|     (60,[5],[1.0])|(31532,[5,7,1322,...|\n",
      "|    0|1001|         0|5f54e2e5|   c4e18dd6|     76b2941d|ecad2386|  7801e8d9|    07d7df22|    f07e20f8|          1|               0|20153|320| 50|2307|  3|163|100020| 61|       5.0|               0.0|         1525.0|                0.0|                  7.0|           0.0|               0.0|                 0.0|                19.0|                0.0|                     0.0|      211.0|        0.0|        0.0|      136.0|        1.0|        7.0|       34.0|        5.0|     (7,[5],[1.0])|             (7,[0],[1.0])|    (4543,[1525],[1.0])|           (7067,[0],[1.0])|               (26,[7],[1.0])|      (7991,[0],[1.0])|           (517,[0],[1.0])|              (36,[0],[1.0])|           (7967,[19],[1.0])|              (5,[0],[1.0])|                   (4,[0],[1.0])| (2607,[211],[1.0])|      (8,[0],[1.0])|      (9,[0],[1.0])|  (434,[136],[1.0])|      (4,[1],[1.0])|     (68,[7],[1.0])|   (172,[34],[1.0])|     (60,[5],[1.0])|(31532,[5,7,1539,...|\n",
      "|    0|1001|         0|85f751fd|   c4e18dd6|     50e219e0|040daf6f|  7801e8d9|    7113d72a|    f07e20f8|          1|               0|20153|320| 50|2307|  3|163|    -1| 61|       5.0|               0.0|            0.0|                0.0|                  0.0|        1066.0|               0.0|                21.0|                19.0|                0.0|                     0.0|      211.0|        0.0|        0.0|      136.0|        1.0|        7.0|        0.0|        5.0|     (7,[5],[1.0])|             (7,[0],[1.0])|       (4543,[0],[1.0])|           (7067,[0],[1.0])|               (26,[0],[1.0])|   (7991,[1066],[1.0])|           (517,[0],[1.0])|             (36,[21],[1.0])|           (7967,[19],[1.0])|              (5,[0],[1.0])|                   (4,[0],[1.0])| (2607,[211],[1.0])|      (8,[0],[1.0])|      (9,[0],[1.0])|  (434,[136],[1.0])|      (4,[1],[1.0])|     (68,[7],[1.0])|    (172,[0],[1.0])|     (60,[5],[1.0])|(31532,[5,7,14,45...|\n",
      "|    0|1001|         0|85f751fd|   c4e18dd6|     50e219e0|040daf6f|  7801e8d9|    7113d72a|    f07e20f8|          1|               0|20153|320| 50|2307|  3|163|    -1| 61|       5.0|               0.0|            0.0|                0.0|                  0.0|        1066.0|               0.0|                21.0|                19.0|                0.0|                     0.0|      211.0|        0.0|        0.0|      136.0|        1.0|        7.0|        0.0|        5.0|     (7,[5],[1.0])|             (7,[0],[1.0])|       (4543,[0],[1.0])|           (7067,[0],[1.0])|               (26,[0],[1.0])|   (7991,[1066],[1.0])|           (517,[0],[1.0])|             (36,[21],[1.0])|           (7967,[19],[1.0])|              (5,[0],[1.0])|                   (4,[0],[1.0])| (2607,[211],[1.0])|      (8,[0],[1.0])|      (9,[0],[1.0])|  (434,[136],[1.0])|      (4,[1],[1.0])|     (68,[7],[1.0])|    (172,[0],[1.0])|     (60,[5],[1.0])|(31532,[5,7,14,45...|\n",
      "|    0|1001|         0|85f751fd|   c4e18dd6|     50e219e0|040daf6f|  7801e8d9|    7113d72a|    f07e20f8|          1|               0|20153|320| 50|2307|  3|163|    -1| 61|       5.0|               0.0|            0.0|                0.0|                  0.0|        1066.0|               0.0|                21.0|                19.0|                0.0|                     0.0|      211.0|        0.0|        0.0|      136.0|        1.0|        7.0|        0.0|        5.0|     (7,[5],[1.0])|             (7,[0],[1.0])|       (4543,[0],[1.0])|           (7067,[0],[1.0])|               (26,[0],[1.0])|   (7991,[1066],[1.0])|           (517,[0],[1.0])|             (36,[21],[1.0])|           (7967,[19],[1.0])|              (5,[0],[1.0])|                   (4,[0],[1.0])| (2607,[211],[1.0])|      (8,[0],[1.0])|      (9,[0],[1.0])|  (434,[136],[1.0])|      (4,[1],[1.0])|     (68,[7],[1.0])|    (172,[0],[1.0])|     (60,[5],[1.0])|(31532,[5,7,14,45...|\n",
      "|    0|1001|         0|85f751fd|   c4e18dd6|     50e219e0|040daf6f|  7801e8d9|    7113d72a|    f07e20f8|          1|               0|20153|320| 50|2307|  3|163|100020| 61|       5.0|               0.0|            0.0|                0.0|                  0.0|        1066.0|               0.0|                21.0|                19.0|                0.0|                     0.0|      211.0|        0.0|        0.0|      136.0|        1.0|        7.0|       34.0|        5.0|     (7,[5],[1.0])|             (7,[0],[1.0])|       (4543,[0],[1.0])|           (7067,[0],[1.0])|               (26,[0],[1.0])|   (7991,[1066],[1.0])|           (517,[0],[1.0])|             (36,[21],[1.0])|           (7967,[19],[1.0])|              (5,[0],[1.0])|                   (4,[0],[1.0])| (2607,[211],[1.0])|      (8,[0],[1.0])|      (9,[0],[1.0])|  (434,[136],[1.0])|      (4,[1],[1.0])|     (68,[7],[1.0])|   (172,[34],[1.0])|     (60,[5],[1.0])|(31532,[5,7,14,45...|\n",
      "|    0|1001|         0|85f751fd|   c4e18dd6|     50e219e0|040daf6f|  7801e8d9|    7113d72a|    f07e20f8|          1|               0|20153|320| 50|2307|  3|163|100020| 61|       5.0|               0.0|            0.0|                0.0|                  0.0|        1066.0|               0.0|                21.0|                19.0|                0.0|                     0.0|      211.0|        0.0|        0.0|      136.0|        1.0|        7.0|       34.0|        5.0|     (7,[5],[1.0])|             (7,[0],[1.0])|       (4543,[0],[1.0])|           (7067,[0],[1.0])|               (26,[0],[1.0])|   (7991,[1066],[1.0])|           (517,[0],[1.0])|             (36,[21],[1.0])|           (7967,[19],[1.0])|              (5,[0],[1.0])|                   (4,[0],[1.0])| (2607,[211],[1.0])|      (8,[0],[1.0])|      (9,[0],[1.0])|  (434,[136],[1.0])|      (4,[1],[1.0])|     (68,[7],[1.0])|   (172,[34],[1.0])|     (60,[5],[1.0])|(31532,[5,7,14,45...|\n",
      "|    0|1001|         0|85f751fd|   c4e18dd6|     50e219e0|057fc067|  7801e8d9|    75d80bbe|    f07e20f8|          1|               2|20476|320| 50|2348|  3|427|100003| 61|       5.0|               0.0|            0.0|                0.0|                  0.0|        2053.0|               0.0|                 8.0|                19.0|                0.0|                     1.0|       99.0|        0.0|        0.0|       94.0|        1.0|       23.0|       28.0|        5.0|     (7,[5],[1.0])|             (7,[0],[1.0])|       (4543,[0],[1.0])|           (7067,[0],[1.0])|               (26,[0],[1.0])|   (7991,[2053],[1.0])|           (517,[0],[1.0])|              (36,[8],[1.0])|           (7967,[19],[1.0])|              (5,[0],[1.0])|                   (4,[1],[1.0])|  (2607,[99],[1.0])|      (8,[0],[1.0])|      (9,[0],[1.0])|   (434,[94],[1.0])|      (4,[1],[1.0])|    (68,[23],[1.0])|   (172,[28],[1.0])|     (60,[5],[1.0])|(31532,[5,7,14,45...|\n",
      "+-----+----+----------+--------+-----------+-------------+--------+----------+------------+------------+-----------+----------------+-----+---+---+----+---+---+------+---+----------+------------------+---------------+-------------------+---------------------+--------------+------------------+--------------------+--------------------+-------------------+------------------------+-----------+-----------+-----------+-----------+-----------+-----------+-----------+-----------+------------------+--------------------------+-----------------------+---------------------------+-----------------------------+----------------------+--------------------------+----------------------------+----------------------------+---------------------------+--------------------------------+-------------------+-------------------+-------------------+-------------------+-------------------+-------------------+-------------------+-------------------+--------------------+\n",
      "only showing top 20 rows\n",
      "\n"
     ]
    },
    {
     "name": "stderr",
     "output_type": "stream",
     "text": [
      "                                                                                \r"
     ]
    }
   ],
   "source": [
    "df_train_encoded = one_hot_encoder.transform(df_train)\n",
    "\n",
    "\n",
    "df_train_encoded.show()\n"
   ]
  },
  {
   "cell_type": "code",
   "execution_count": 20,
   "id": "3023d8ad",
   "metadata": {},
   "outputs": [
    {
     "name": "stderr",
     "output_type": "stream",
     "text": [
      "23/08/06 18:53:02 WARN DAGScheduler: Broadcasting large task binary with size 1223.7 KiB\n"
     ]
    },
    {
     "name": "stdout",
     "output_type": "stream",
     "text": [
      "+-----+--------------------+\n",
      "|label|            features|\n",
      "+-----+--------------------+\n",
      "|    0|(31532,[5,7,3758,...|\n",
      "|    0|(31532,[5,7,792,4...|\n",
      "|    0|(31532,[5,7,792,4...|\n",
      "|    0|(31532,[5,7,792,4...|\n",
      "|    0|(31532,[5,7,792,4...|\n",
      "|    0|(31532,[5,7,792,4...|\n",
      "|    0|(31532,[5,7,792,4...|\n",
      "|    0|(31532,[5,7,792,4...|\n",
      "|    0|(31532,[5,7,792,4...|\n",
      "|    0|(31532,[5,7,792,4...|\n",
      "|    0|(31532,[5,7,792,4...|\n",
      "|    0|(31532,[5,7,1322,...|\n",
      "|    0|(31532,[5,7,1322,...|\n",
      "|    0|(31532,[5,7,1539,...|\n",
      "|    0|(31532,[5,7,14,45...|\n",
      "|    0|(31532,[5,7,14,45...|\n",
      "|    0|(31532,[5,7,14,45...|\n",
      "|    0|(31532,[5,7,14,45...|\n",
      "|    0|(31532,[5,7,14,45...|\n",
      "|    0|(31532,[5,7,14,45...|\n",
      "+-----+--------------------+\n",
      "only showing top 20 rows\n",
      "\n"
     ]
    },
    {
     "data": {
      "text/plain": [
       "DataFrame[label: int, C1: string, banner_pos: string, site_id: string, site_domain: string, site_category: string, app_id: string, app_domain: string, app_category: string, device_model: string, device_type: string, device_conn_type: string, C14: string, C15: string, C16: string, C17: string, C18: string, C19: string, C20: string, C21: string]"
      ]
     },
     "execution_count": 20,
     "metadata": {},
     "output_type": "execute_result"
    }
   ],
   "source": [
    "df_train_encoded = df_train_encoded.select([\"label\", \"features\"])\n",
    "\n",
    "df_train_encoded.show()\n",
    "\n",
    "df_train_encoded.cache()\n",
    "\n",
    "df_train.unpersist()"
   ]
  },
  {
   "cell_type": "code",
   "execution_count": 21,
   "id": "da1602fe",
   "metadata": {},
   "outputs": [
    {
     "name": "stderr",
     "output_type": "stream",
     "text": [
      "23/08/06 18:53:05 WARN DAGScheduler: Broadcasting large task binary with size 1223.7 KiB\n"
     ]
    },
    {
     "name": "stdout",
     "output_type": "stream",
     "text": [
      "+-----+--------------------+\n",
      "|label|            features|\n",
      "+-----+--------------------+\n",
      "|    0|(31532,[5,7,792,4...|\n",
      "|    0|(31532,[5,7,792,4...|\n",
      "|    0|(31532,[5,7,792,4...|\n",
      "|    0|(31532,[5,7,792,4...|\n",
      "|    0|(31532,[5,7,792,4...|\n",
      "|    0|(31532,[5,7,792,4...|\n",
      "|    0|(31532,[5,7,792,4...|\n",
      "|    0|(31532,[5,7,1322,...|\n",
      "|    0|(31532,[5,7,1322,...|\n",
      "|    0|(31532,[5,7,4557,...|\n",
      "|    0|(31532,[5,7,14,45...|\n",
      "|    0|(31532,[5,7,14,45...|\n",
      "|    0|(31532,[5,7,14,45...|\n",
      "|    0|(31532,[5,7,14,45...|\n",
      "|    0|(31532,[5,7,14,45...|\n",
      "|    0|(31532,[5,7,14,45...|\n",
      "|    0|(31532,[5,7,14,45...|\n",
      "|    0|(31532,[5,7,14,45...|\n",
      "|    0|(31532,[5,7,14,45...|\n",
      "|    0|(31532,[5,7,14,45...|\n",
      "+-----+--------------------+\n",
      "only showing top 20 rows\n",
      "\n"
     ]
    },
    {
     "data": {
      "text/plain": [
       "DataFrame[label: int, C1: string, banner_pos: string, site_id: string, site_domain: string, site_category: string, app_id: string, app_domain: string, app_category: string, device_model: string, device_type: string, device_conn_type: string, C14: string, C15: string, C16: string, C17: string, C18: string, C19: string, C20: string, C21: string]"
      ]
     },
     "execution_count": 21,
     "metadata": {},
     "output_type": "execute_result"
    }
   ],
   "source": [
    "df_test_encoded = one_hot_encoder.transform(df_test)\n",
    "\n",
    "\n",
    "\n",
    "df_test_encoded = df_test_encoded.select([\"label\", \"features\"])\n",
    "\n",
    "df_test_encoded.show()\n",
    "\n",
    "df_test_encoded.cache()\n",
    "\n",
    "df_test.unpersist()\n"
   ]
  },
  {
   "cell_type": "code",
   "execution_count": 22,
   "id": "a0af8909",
   "metadata": {},
   "outputs": [],
   "source": [
    "from pyspark.ml.classification import LogisticRegression\n",
    "\n",
    "classifier = LogisticRegression(maxIter=20, regParam=0.000, elasticNetParam=0.000)"
   ]
  },
  {
   "cell_type": "code",
   "execution_count": null,
   "id": "20b37554",
   "metadata": {},
   "outputs": [],
   "source": [
    "lr_model = classifier.fit(df_train_encoded)\n",
    "\n",
    "df_train_encoded.unpersist()"
   ]
  },
  {
   "cell_type": "code",
   "execution_count": null,
   "id": "c508fe6a",
   "metadata": {},
   "outputs": [],
   "source": [
    "predictions = lr_model.transform(df_test_encoded)\n",
    "\n",
    "df_test_encoded.unpersist()"
   ]
  },
  {
   "cell_type": "code",
   "execution_count": null,
   "id": "39ee0caf",
   "metadata": {},
   "outputs": [],
   "source": [
    "predictions.cache()\n",
    "\n",
    "predictions.show()\n"
   ]
  },
  {
   "cell_type": "code",
   "execution_count": null,
   "id": "cb48e780",
   "metadata": {},
   "outputs": [],
   "source": [
    "from pyspark.ml.evaluation import BinaryClassificationEvaluator\n",
    "\n",
    "ev = BinaryClassificationEvaluator(rawPredictionCol = \"rawPrediction\", metricName = \"areaUnderROC\")\n",
    "print(ev.evaluate(predictions))\n",
    "\n",
    "\n",
    "spark.stop()"
   ]
  }
 ],
 "metadata": {
  "kernelspec": {
   "display_name": "Python 3 (ipykernel)",
   "language": "python",
   "name": "python3"
  },
  "language_info": {
   "codemirror_mode": {
    "name": "ipython",
    "version": 3
   },
   "file_extension": ".py",
   "mimetype": "text/x-python",
   "name": "python",
   "nbconvert_exporter": "python",
   "pygments_lexer": "ipython3",
   "version": "3.8.5"
  }
 },
 "nbformat": 4,
 "nbformat_minor": 5
}
