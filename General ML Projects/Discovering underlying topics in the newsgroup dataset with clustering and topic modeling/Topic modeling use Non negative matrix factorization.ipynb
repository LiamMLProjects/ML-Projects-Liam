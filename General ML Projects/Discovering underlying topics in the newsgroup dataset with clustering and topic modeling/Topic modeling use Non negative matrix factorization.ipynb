{
 "cells": [
  {
   "cell_type": "code",
   "execution_count": 2,
   "id": "211ede3a",
   "metadata": {},
   "outputs": [],
   "source": [
    "from sklearn.datasets import fetch_20newsgroups\n",
    "\n",
    "categories = [\n",
    "    'alt.atheism',\n",
    "    'talk.religion.misc',\n",
    "    'comp.graphics',\n",
    "    'sci.space',\n",
    "]\n",
    "\n",
    "\n",
    "groups = fetch_20newsgroups(subset='all', categories=categories)\n",
    "\n",
    "from nltk.corpus import names\n",
    "all_names = set(names.words())\n",
    "\n"
   ]
  },
  {
   "cell_type": "code",
   "execution_count": 3,
   "id": "7189e308",
   "metadata": {},
   "outputs": [],
   "source": [
    "from nltk.stem import WordNetLemmatizer\n",
    "lemmatizer = WordNetLemmatizer()\n",
    "\n",
    "data_cleaned = []\n",
    "\n",
    "for doc in groups.data:\n",
    "    doc = doc.lower()\n",
    "    doc_cleaned = ' '.join(lemmatizer.lemmatize(word) for word in doc.split() if word.isalpha() and word not in all_names)\n",
    "    data_cleaned.append(doc_cleaned)\n",
    "\n"
   ]
  },
  {
   "cell_type": "code",
   "execution_count": 4,
   "id": "3c490bac",
   "metadata": {},
   "outputs": [],
   "source": [
    "from sklearn.feature_extraction.text import CountVectorizer\n",
    "count_vector = CountVectorizer(stop_words=\"english\", max_features=None, max_df=0.5, min_df=2)\n",
    "\n",
    "data = count_vector.fit_transform(data_cleaned)\n"
   ]
  },
  {
   "cell_type": "code",
   "execution_count": 9,
   "id": "bfb2827e",
   "metadata": {},
   "outputs": [
    {
     "name": "stdout",
     "output_type": "stream",
     "text": [
      "[[0.00000000e+00 0.00000000e+00 0.00000000e+00 ... 0.00000000e+00\n",
      "  0.00000000e+00 1.82524532e-04]\n",
      " [0.00000000e+00 0.00000000e+00 0.00000000e+00 ... 0.00000000e+00\n",
      "  7.77697392e-04 3.85995474e-03]\n",
      " [0.00000000e+00 0.00000000e+00 0.00000000e+00 ... 0.00000000e+00\n",
      "  0.00000000e+00 0.00000000e+00]\n",
      " ...\n",
      " [0.00000000e+00 0.00000000e+00 0.00000000e+00 ... 2.71332203e-02\n",
      "  0.00000000e+00 0.00000000e+00]\n",
      " [0.00000000e+00 0.00000000e+00 0.00000000e+00 ... 0.00000000e+00\n",
      "  0.00000000e+00 4.31048632e-05]\n",
      " [0.00000000e+00 0.00000000e+00 0.00000000e+00 ... 0.00000000e+00\n",
      "  0.00000000e+00 0.00000000e+00]]\n"
     ]
    }
   ],
   "source": [
    "from sklearn.decomposition import NMF\n",
    "\n",
    "t = 20\n",
    "nmf = NMF(n_components=t, random_state=42)\n",
    "\n",
    "nmf.fit(data)\n",
    "\n",
    "print(nmf.components_)\n",
    "\n",
    "terms = count_vector.get_feature_names_out()\n"
   ]
  },
  {
   "cell_type": "code",
   "execution_count": 10,
   "id": "b0de067e",
   "metadata": {},
   "outputs": [
    {
     "name": "stdout",
     "output_type": "stream",
     "text": [
      "Topic 0:\n",
      "available quality program free color version gif file image jpeg\n",
      "Topic 1:\n",
      "ha article make know doe say like just people think\n",
      "Topic 2:\n",
      "include available analysis user software ha processing data tool image\n",
      "Topic 3:\n",
      "atmosphere kilometer surface ha earth wa planet moon spacecraft solar\n",
      "Topic 4:\n",
      "communication technology venture service market ha commercial space satellite launch\n",
      "Topic 5:\n",
      "verse wa jesus father mormon shall unto mcconkie lord god\n",
      "Topic 6:\n",
      "format message server object image mail file ray send graphic\n",
      "Topic 7:\n",
      "christian people doe atheism believe religion belief religious god atheist\n",
      "Topic 8:\n",
      "file graphic grass program ha package ftp available image data\n",
      "Topic 9:\n",
      "speed material unified star larson book universe theory physicist physical\n",
      "Topic 10:\n",
      "planetary station program group astronaut center mission shuttle nasa space\n",
      "Topic 11:\n",
      "infrared high astronomical center acronym observatory satellite national telescope space\n",
      "Topic 12:\n",
      "used occurs true form ha ad premise conclusion argument fallacy\n",
      "Topic 13:\n",
      "gospel people day psalm prophecy christian ha matthew wa jesus\n",
      "Topic 14:\n",
      "doe word hanging say greek matthew mr act wa juda\n",
      "Topic 15:\n",
      "siggraph graphic file information format isbn data image ftp available\n",
      "Topic 16:\n",
      "venera mar lunar surface space venus soviet mission wa probe\n",
      "Topic 17:\n",
      "april book like year time people new did article wa\n",
      "Topic 18:\n",
      "site retrieve ftp software data information client database gopher search\n",
      "Topic 19:\n",
      "use look xv color make program correction bit gamma image\n"
     ]
    }
   ],
   "source": [
    "for topic_idx, topic in enumerate(nmf.components_):\n",
    "        print(\"Topic {}:\" .format(topic_idx))\n",
    "        print(\" \".join([terms[i] for i in topic.argsort()[-10:]]))"
   ]
  },
  {
   "cell_type": "code",
   "execution_count": null,
   "id": "a2f0f322",
   "metadata": {},
   "outputs": [],
   "source": []
  }
 ],
 "metadata": {
  "kernelspec": {
   "display_name": "Python 3 (ipykernel)",
   "language": "python",
   "name": "python3"
  },
  "language_info": {
   "codemirror_mode": {
    "name": "ipython",
    "version": 3
   },
   "file_extension": ".py",
   "mimetype": "text/x-python",
   "name": "python",
   "nbconvert_exporter": "python",
   "pygments_lexer": "ipython3",
   "version": "3.8.5"
  }
 },
 "nbformat": 4,
 "nbformat_minor": 5
}
