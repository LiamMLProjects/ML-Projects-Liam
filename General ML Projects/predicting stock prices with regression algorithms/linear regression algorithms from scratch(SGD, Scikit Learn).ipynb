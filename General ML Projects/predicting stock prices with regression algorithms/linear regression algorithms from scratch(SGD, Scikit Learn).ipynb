{
 "cells": [
  {
   "cell_type": "code",
   "execution_count": 1,
   "id": "9756e76c",
   "metadata": {},
   "outputs": [],
   "source": [
    "import numpy as np\n",
    "\n",
    "\n",
    "def compute_prediction(X, weights):\n",
    "    \"\"\"\n",
    "    Compute the prediction y_hat based on current weights\n",
    "    \"\"\"\n",
    "    predictions = np.dot(X, weights)\n",
    "    return predictions"
   ]
  },
  {
   "cell_type": "code",
   "execution_count": 2,
   "id": "cd5c78a6",
   "metadata": {},
   "outputs": [],
   "source": [
    "def update_weights_gd(X_train, y_train, weights, learning_rate):\n",
    "    \"\"\"\n",
    "    Update weights by one step and return updated wights\n",
    "    \"\"\"\n",
    "    predictions = compute_prediction(X_train, weights)\n",
    "    weights_delta = np.dot(X_train.T, y_train - predictions)\n",
    "    m = y_train.shape[0]\n",
    "    weights += learning_rate / float(m) * weights_delta\n",
    "    return weights\n",
    "\n"
   ]
  },
  {
   "cell_type": "code",
   "execution_count": 3,
   "id": "ca987671",
   "metadata": {},
   "outputs": [],
   "source": [
    "\n",
    "def compute_cost(X, y, weights):\n",
    "    \"\"\"\n",
    "    Compute the cost J(w)\n",
    "    \"\"\"\n",
    "    predictions = compute_prediction(X, weights)\n",
    "    cost = np.mean((predictions - y) ** 2 / 2.0)\n",
    "    return cost"
   ]
  },
  {
   "cell_type": "code",
   "execution_count": 4,
   "id": "3d8525c1",
   "metadata": {},
   "outputs": [],
   "source": [
    "\n",
    "def train_linear_regression(X_train, y_train, max_iter, learning_rate, fit_intercept=False):\n",
    "    \"\"\"\n",
    "    Train a linear regression model with gradient descent, and return trained model\n",
    "    \"\"\"\n",
    "    if fit_intercept:\n",
    "        intercept = np.ones((X_train.shape[0], 1))\n",
    "        X_train = np.hstack((intercept, X_train))\n",
    "    weights = np.zeros(X_train.shape[1])\n",
    "    for iteration in range(max_iter):\n",
    "        weights = update_weights_gd(X_train, y_train, weights, learning_rate)\n",
    "        # Check the cost for every 100 (for example) iterations\n",
    "        if iteration % 100 == 0:\n",
    "            print(compute_cost(X_train, y_train, weights))\n",
    "    return weights\n"
   ]
  },
  {
   "cell_type": "code",
   "execution_count": 5,
   "id": "1017be38",
   "metadata": {},
   "outputs": [],
   "source": [
    "\n",
    "def predict(X, weights):\n",
    "    if X.shape[1] == weights.shape[0] - 1:\n",
    "        intercept = np.ones((X.shape[0], 1))\n",
    "        X = np.hstack((intercept, X))\n",
    "    return compute_prediction(X, weights)\n"
   ]
  },
  {
   "cell_type": "code",
   "execution_count": 6,
   "id": "9517f16c",
   "metadata": {},
   "outputs": [
    {
     "name": "stdout",
     "output_type": "stream",
     "text": [
      "5.571972628\n"
     ]
    }
   ],
   "source": [
    "# A small example\n",
    "X_train = np.array([[6], [2], [3], [4], [1], [5], [2], [6], [4], [7]])\n",
    "\n",
    "y_train = np.array([5.5, 1.6, 2.2, 3.7, 0.8, 5.2, 1.5, 5.3, 4.4, 6.8])\n",
    "\n",
    "weights = train_linear_regression(X_train, y_train, max_iter=100, learning_rate=0.01, fit_intercept=True)\n",
    "\n",
    "X_test = np.array([[1.3], [3.5], [5.2], [2.8]])\n",
    "\n",
    "predictions = predict(X_test, weights)\n"
   ]
  },
  {
   "cell_type": "code",
   "execution_count": 7,
   "id": "805841cc",
   "metadata": {},
   "outputs": [
    {
     "data": {
      "image/png": "[encoded data removed]",
      "text/plain": [
       "<Figure size 640x480 with 1 Axes>"
      ]
     },
     "metadata": {},
     "output_type": "display_data"
    }
   ],
   "source": [
    "\n",
    "import matplotlib.pyplot as plt\n",
    "plt.scatter(X_train[:, 0], y_train, marker='o', c='b')\n",
    "plt.scatter(X_test[:, 0], predictions, marker='*', c='k')\n",
    "plt.xlabel('x')\n",
    "plt.ylabel('y')\n",
    "plt.show()"
   ]
  },
  {
   "cell_type": "code",
   "execution_count": 8,
   "id": "03ba4777",
   "metadata": {},
   "outputs": [
    {
     "name": "stdout",
     "output_type": "stream",
     "text": [
      "(442, 10)\n"
     ]
    }
   ],
   "source": [
    "\n",
    "# The diabetes example\n",
    "from sklearn import datasets\n",
    "diabetes = datasets.load_diabetes()\n",
    "print(diabetes.data.shape)\n",
    "\n",
    "num_test = 30\n",
    "X_train = diabetes.data[:-num_test, :]\n",
    "y_train = diabetes.target[:-num_test]\n"
   ]
  },
  {
   "cell_type": "code",
   "execution_count": 9,
   "id": "ad1b002e",
   "metadata": {},
   "outputs": [
    {
     "name": "stdout",
     "output_type": "stream",
     "text": [
      "2960.123025607216\n",
      "1984.7486632548823\n",
      "1729.7769635921995\n",
      "1627.6348119343263\n",
      "1572.7632730523533\n",
      "1539.554802043756\n",
      "1518.6181097259152\n",
      "1505.1916919461312\n",
      "1496.4882691586809\n",
      "1490.7927148484966\n",
      "1487.0293572901583\n",
      "1484.516650020924\n",
      "1482.8194344074193\n",
      "1481.6579404201677\n",
      "1480.85109510679\n",
      "1480.280921685538\n",
      "1479.8700312138085\n",
      "1479.5673033510566\n",
      "1479.3387231207394\n",
      "1479.1614836837496\n",
      "1479.0201696937395\n",
      "1478.9042732451073\n",
      "1478.8065678119995\n",
      "1478.7220374658161\n",
      "1478.6471673310045\n",
      "1478.57947029736\n",
      "1478.5171691036435\n",
      "1478.4589811941237\n",
      "1478.4039719757411\n",
      "1478.3514538988786\n",
      "1478.3009164521106\n",
      "1478.251977168085\n",
      "1478.204347022648\n",
      "1478.157805775425\n",
      "1478.1121842360594\n",
      "1478.0673513977845\n",
      "1478.0232050223478\n",
      "1477.9796646941397\n",
      "1477.9366666564356\n",
      "1477.8941599449035\n",
      "1477.8521034731898\n",
      "1477.8104638227055\n",
      "1477.7692135570753\n",
      "1477.728329930129\n",
      "1477.6877938909208\n",
      "1477.6475893142133\n",
      "1477.6077024029764\n",
      "1477.5681212227464\n",
      "1477.5288353374858\n",
      "1477.4898355238697\n",
      "[232.22192119 123.87532386 166.12297497 170.23855082 228.12523411\n",
      " 154.9570854  101.09011561  87.33479691 143.68827095 190.29424697\n",
      " 198.00696804 149.63068784 169.56215468 109.01832867 161.97943375\n",
      " 133.00757288 260.18431805 101.52516612 115.76691141 120.73229914\n",
      " 219.62761982  62.21080727 136.29855757 122.27895603  55.14532638\n",
      " 191.50289376 105.68864904 126.26137526 208.99754096  47.66481183]\n",
      "[261. 113. 131. 174. 257.  55.  84.  42. 146. 212. 233.  91. 111. 152.\n",
      " 120.  67. 310.  94. 183.  66. 173.  72.  49.  64.  48. 178. 104. 132.\n",
      " 220.  57.]\n"
     ]
    }
   ],
   "source": [
    "\n",
    "weights = train_linear_regression(X_train, y_train, max_iter=5000, learning_rate=1, fit_intercept=True)\n",
    "\n",
    "X_test = diabetes.data[-num_test:, :]\n",
    "y_test = diabetes.target[-num_test:]\n",
    "\n",
    "predictions = predict(X_test, weights)\n",
    "\n",
    "print(predictions)\n",
    "print(y_test)\n"
   ]
  },
  {
   "cell_type": "code",
   "execution_count": 10,
   "id": "0c03f613",
   "metadata": {},
   "outputs": [
    {
     "name": "stdout",
     "output_type": "stream",
     "text": [
      "[215.78291047 121.98330825 181.10468305 167.13388657 206.8169877\n",
      " 143.28834804 115.27616429  89.98816168 151.45274581 191.55163338\n",
      " 186.78313113 160.42838285 168.65115469  92.13802761 177.75829557\n",
      " 131.7964705  249.66656536 104.79559812 122.91820231 124.94096061\n",
      " 209.82516828  75.69816723 135.77813468 120.26298248  58.97294383\n",
      " 183.59139167 128.69708467 134.51522429 187.13827481  64.3409108 ]\n"
     ]
    }
   ],
   "source": [
    "\n",
    "# Directly use SGDRegressor from scikit-learn\n",
    "from sklearn.linear_model import SGDRegressor\n",
    "regressor = SGDRegressor(loss='squared_error', penalty='l2', alpha=0.0001, learning_rate='constant', eta0=0.01,\n",
    "                         max_iter=1000)\n",
    "regressor.fit(X_train, y_train)\n",
    "predictions = regressor.predict(X_test)\n",
    "print(predictions)\n"
   ]
  },
  {
   "cell_type": "code",
   "execution_count": 11,
   "id": "152bd5c5",
   "metadata": {},
   "outputs": [
    {
     "name": "stdout",
     "output_type": "stream",
     "text": [
      "[274.          64.85714286 139.          96.6        120.\n",
      " 141.66666667 241.5         59.         127.         238.\n",
      " 252.         124.         146.5         37.         190.\n",
      " 209.         226.5         64.85714286  98.5         63.5\n",
      " 133.28571429  64.85714286  64.85714286  55.4         74.5\n",
      " 281.         241.5         94.          77.         241.5       ]\n",
      "[261. 113. 131. 174. 257.  55.  84.  42. 146. 212. 233.  91. 111. 152.\n",
      " 120.  67. 310.  94. 183.  66. 173.  72.  49.  64.  48. 178. 104. 132.\n",
      " 220.  57.]\n"
     ]
    }
   ],
   "source": [
    "\n",
    "from sklearn.tree import DecisionTreeRegressor\n",
    "regressor = DecisionTreeRegressor(max_depth=10, min_samples_split=3)\n",
    "\n",
    "regressor.fit(X_train, y_train)\n",
    "predictions = regressor.predict(X_test)\n",
    "print(predictions)\n",
    "print(y_test)"
   ]
  },
  {
   "cell_type": "code",
   "execution_count": 12,
   "id": "295a7889",
   "metadata": {},
   "outputs": [
    {
     "name": "stdout",
     "output_type": "stream",
     "text": [
      "[243.35987119  89.65195531 168.70348076 160.57668816 179.75929167\n",
      " 145.78236958 122.10935349 102.45367435 112.39103811 196.79675752\n",
      " 196.34439697 160.11945788 190.72026995  97.05674857 192.83388853\n",
      " 126.3699479  266.68078571  92.89227597 111.72119153 119.38007458\n",
      " 247.8854932   71.32267131  92.24011731  95.77400313  74.26186127\n",
      " 234.69832645 118.67999856  87.28187917 179.87539686 125.27863208]\n"
     ]
    }
   ],
   "source": [
    "\n",
    "from sklearn.ensemble import RandomForestRegressor\n",
    "regressor = RandomForestRegressor(n_estimators=100, max_depth=10, min_samples_split=3)\n",
    "regressor.fit(X_train, y_train)\n",
    "predictions = regressor.predict(X_test)\n",
    "print(predictions)"
   ]
  },
  {
   "cell_type": "code",
   "execution_count": 13,
   "id": "90e47aa3",
   "metadata": {},
   "outputs": [
    {
     "name": "stdout",
     "output_type": "stream",
     "text": [
      "[141.6583512  141.35033626 141.70833018 141.55293297 141.60667365\n",
      " 141.39073618 141.42099951 141.22242067 141.50841745 141.67052914\n",
      " 141.6057513  141.60230289 141.54915902 141.15926787 141.66418259\n",
      " 141.36563527 141.82103466 141.32977581 141.41983518 141.38218321\n",
      " 141.6783659  141.23748526 141.40698249 141.35658585 141.11971192\n",
      " 141.58574285 141.49639889 141.43349679 141.55933576 141.21664947]\n"
     ]
    }
   ],
   "source": [
    "\n",
    "from sklearn.svm import SVR\n",
    "regressor = SVR(C=0.1, epsilon=0.02, kernel='linear')\n",
    "\n",
    "regressor.fit(X_train, y_train)\n",
    "predictions = regressor.predict(X_test)\n",
    "print(predictions)"
   ]
  },
  {
   "cell_type": "code",
   "execution_count": 14,
   "id": "f0aa6a25",
   "metadata": {},
   "outputs": [],
   "source": [
    "\n",
    "from sklearn import datasets\n",
    "diabetes = datasets.load_diabetes()\n",
    "num_test = 30    # the last 30 samples as testing set\n",
    "X_train = diabetes.data[:-num_test, :]\n",
    "y_train = diabetes.target[:-num_test]\n",
    "X_test = diabetes.data[-num_test:, :]\n",
    "y_test = diabetes.target[-num_test:]\n",
    "param_grid = {\n",
    "    \"alpha\": [1e-07, 1e-06, 1e-05],\n",
    "    \"penalty\": [None, \"l2\"],\n",
    "    \"eta0\": [0.03, 0.05, 0.1],\n",
    "    \"max_iter\": [500, 1000]\n",
    "}"
   ]
  },
  {
   "cell_type": "code",
   "execution_count": 15,
   "id": "3851dc25",
   "metadata": {},
   "outputs": [],
   "source": [
    "\n",
    "from sklearn.linear_model import SGDRegressor\n",
    "from sklearn.model_selection import GridSearchCV\n",
    "regressor = SGDRegressor(loss='squared_error',\n",
    "                         learning_rate='constant',\n",
    "                         random_state=42)\n",
    "grid_search = GridSearchCV(regressor, param_grid, cv=3)"
   ]
  },
  {
   "cell_type": "code",
   "execution_count": 16,
   "id": "55f3c074",
   "metadata": {},
   "outputs": [
    {
     "name": "stdout",
     "output_type": "stream",
     "text": [
      "{'alpha': 1e-07, 'eta0': 0.05, 'max_iter': 500, 'penalty': None}\n"
     ]
    }
   ],
   "source": [
    "grid_search.fit(X_train, y_train)\n",
    "print(grid_search.best_params_)"
   ]
  },
  {
   "cell_type": "code",
   "execution_count": 17,
   "id": "f142e5cb",
   "metadata": {},
   "outputs": [],
   "source": [
    "\n",
    "regressor_best = grid_search.best_estimator_\n",
    "\n",
    "\n",
    "predictions = regressor_best.predict(X_test)\n"
   ]
  },
  {
   "cell_type": "code",
   "execution_count": 18,
   "id": "09c03c5d",
   "metadata": {},
   "outputs": [
    {
     "name": "stdout",
     "output_type": "stream",
     "text": [
      "1933.375567511739\n",
      "35.48302167833626\n",
      "0.6247482987860085\n"
     ]
    }
   ],
   "source": [
    "\n",
    "from sklearn.metrics import mean_squared_error, mean_absolute_error, r2_score\n",
    "print(mean_squared_error(y_test, predictions))\n",
    "\n",
    "print(mean_absolute_error(y_test, predictions))\n",
    "\n",
    "print(r2_score(y_test, predictions))"
   ]
  },
  {
   "cell_type": "code",
   "execution_count": null,
   "id": "46e85ff1",
   "metadata": {},
   "outputs": [],
   "source": []
  },
  {
   "cell_type": "code",
   "execution_count": null,
   "id": "9ac69991",
   "metadata": {},
   "outputs": [],
   "source": []
  }
 ],
 "metadata": {
  "kernelspec": {
   "display_name": "Python 3 (ipykernel)",
   "language": "python",
   "name": "python3"
  },
  "language_info": {
   "codemirror_mode": {
    "name": "ipython",
    "version": 3
   },
   "file_extension": ".py",
   "mimetype": "text/x-python",
   "name": "python",
   "nbconvert_exporter": "python",
   "pygments_lexer": "ipython3",
   "version": "3.8.5"
  }
 },
 "nbformat": 4,
 "nbformat_minor": 5
}
