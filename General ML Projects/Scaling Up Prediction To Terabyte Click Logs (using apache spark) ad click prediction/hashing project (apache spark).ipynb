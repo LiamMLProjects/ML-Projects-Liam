{
 "cells": [
  {
   "cell_type": "code",
   "execution_count": 1,
   "id": "fc38f084",
   "metadata": {},
   "outputs": [
    {
     "name": "stderr",
     "output_type": "stream",
     "text": [
      "Using Spark's default log4j profile: org/apache/spark/log4j-defaults.properties\n",
      "Setting default log level to \"WARN\".\n",
      "To adjust logging level use sc.setLogLevel(newLevel). For SparkR, use setLogLevel(newLevel).\n",
      "23/08/06 18:58:34 WARN NativeCodeLoader: Unable to load native-hadoop library for your platform... using builtin-java classes where applicable\n"
     ]
    }
   ],
   "source": [
    "from pyspark.sql import SparkSession\n",
    "\n",
    "\n",
    "spark = SparkSession\\\n",
    "    .builder\\\n",
    "    .appName(\"CTR\")\\\n",
    "    .getOrCreate()\n",
    "\n",
    "\n",
    "\n",
    "\n",
    "\n",
    "from pyspark.sql.types import StructField, StringType, StructType, IntegerType\n",
    "\n",
    "schema = StructType([\n",
    "    StructField(\"id\", StringType(), True),\n",
    "    StructField(\"click\", IntegerType(), True),\n",
    "    StructField(\"hour\", IntegerType(), True),\n",
    "    StructField(\"C1\", StringType(), True),\n",
    "    StructField(\"banner_pos\", StringType(), True),\n",
    "    StructField(\"site_id\", StringType(), True),\n",
    "    StructField(\"site_domain\", StringType(), True),\n",
    "    StructField(\"site_category\", StringType(), True),\n",
    "    StructField(\"app_id\", StringType(), True),\n",
    "    StructField(\"app_domain\", StringType(), True),\n",
    "    StructField(\"app_category\", StringType(), True),\n",
    "    StructField(\"device_id\", StringType(), True),\n",
    "    StructField(\"device_ip\", StringType(), True),\n",
    "    StructField(\"device_model\", StringType(), True),\n",
    "    StructField(\"device_type\", StringType(), True),\n",
    "    StructField(\"device_conn_type\", StringType(), True),\n",
    "    StructField(\"C14\", StringType(), True),\n",
    "    StructField(\"C15\", StringType(), True),\n",
    "    StructField(\"C16\", StringType(), True),\n",
    "    StructField(\"C17\", StringType(), True),\n",
    "    StructField(\"C18\", StringType(), True),\n",
    "    StructField(\"C19\", StringType(), True),\n",
    "    StructField(\"C20\", StringType(), True),\n",
    "    StructField(\"C21\", StringType(), True),\n",
    "])"
   ]
  },
  {
   "cell_type": "code",
   "execution_count": 2,
   "id": "b3898b72",
   "metadata": {},
   "outputs": [],
   "source": [
    "df = spark.read.csv(\"desktop/train.csv\", schema=schema, header=True)"
   ]
  },
  {
   "cell_type": "code",
   "execution_count": 3,
   "id": "cd7eb1a8",
   "metadata": {},
   "outputs": [
    {
     "name": "stdout",
     "output_type": "stream",
     "text": [
      "['C1', 'banner_pos', 'site_id', 'site_domain', 'site_category', 'app_id', 'app_domain', 'app_category', 'device_model', 'device_type', 'device_conn_type', 'C14', 'C15', 'C16', 'C17', 'C18', 'C19', 'C20', 'C21']\n"
     ]
    }
   ],
   "source": [
    "df = df.drop('id').drop('hour').drop('device_id').drop('device_ip')\n",
    "\n",
    "df = df.withColumnRenamed(\"click\", \"label\")\n",
    "\n",
    "\n",
    "df_train, df_test = df.randomSplit([0.7, 0.3], 42)\n",
    "\n",
    "df_train.cache()\n",
    "\n",
    "df_test.cache()\n",
    "\n",
    "\n",
    "\n",
    "categorical = df_train.columns\n",
    "categorical.remove('label')\n",
    "print(categorical)\n"
   ]
  },
  {
   "cell_type": "code",
   "execution_count": 4,
   "id": "be8cc9de",
   "metadata": {},
   "outputs": [
    {
     "name": "stderr",
     "output_type": "stream",
     "text": [
      "23/08/06 18:58:42 WARN package: Truncated the string representation of a plan since it was too large. This behavior can be adjusted by setting 'spark.sql.debug.maxToStringFields'.\n",
      "[Stage 0:>                                                          (0 + 1) / 1]\r"
     ]
    },
    {
     "name": "stdout",
     "output_type": "stream",
     "text": [
      "+--------------------+\n",
      "|            features|\n",
      "+--------------------+\n",
      "|(10000,[1228,1289...|\n",
      "|(10000,[29,1228,1...|\n",
      "|(10000,[1228,1289...|\n",
      "|(10000,[1228,1289...|\n",
      "|(10000,[1228,1289...|\n",
      "|(10000,[1228,1289...|\n",
      "|(10000,[1228,1289...|\n",
      "|(10000,[1228,1289...|\n",
      "|(10000,[1228,1289...|\n",
      "|(10000,[1228,1289...|\n",
      "|(10000,[1228,1289...|\n",
      "|(10000,[1228,1289...|\n",
      "|(10000,[1228,1289...|\n",
      "|(10000,[746,1060,...|\n",
      "|(10000,[1289,1695...|\n",
      "|(10000,[1289,1695...|\n",
      "|(10000,[1289,1695...|\n",
      "|(10000,[1289,1695...|\n",
      "|(10000,[1289,1695...|\n",
      "|(10000,[1289,1695...|\n",
      "+--------------------+\n",
      "only showing top 20 rows\n",
      "\n"
     ]
    },
    {
     "name": "stderr",
     "output_type": "stream",
     "text": [
      "                                                                                \r"
     ]
    }
   ],
   "source": [
    "\n",
    "\n",
    "from pyspark.ml.feature import FeatureHasher\n",
    "hasher = FeatureHasher(numFeatures=10000, inputCols=categorical,\n",
    "                       outputCol=\"features\")\n",
    "\n",
    "hasher.transform(df_train).select(\"features\").show()\n"
   ]
  },
  {
   "cell_type": "code",
   "execution_count": null,
   "id": "c82d81a4",
   "metadata": {},
   "outputs": [
    {
     "name": "stderr",
     "output_type": "stream",
     "text": [
      "[Stage 1:=>                                                        (1 + 8) / 48]\r"
     ]
    }
   ],
   "source": [
    "\n",
    "from pyspark.ml.classification import LogisticRegression\n",
    "\n",
    "classifier = LogisticRegression(maxIter=20, regParam=0.000, elasticNetParam=0.000)\n",
    "\n",
    "stages = [hasher, classifier]\n",
    "\n",
    "from pyspark.ml import Pipeline\n",
    "\n",
    "pipeline = Pipeline(stages=stages)\n",
    "\n",
    "\n",
    "model = pipeline.fit(df_train)\n",
    "\n",
    "predictions = model.transform(df_test)\n",
    "\n",
    "\n",
    "predictions.cache()\n"
   ]
  },
  {
   "cell_type": "code",
   "execution_count": null,
   "id": "6c590a12",
   "metadata": {},
   "outputs": [],
   "source": [
    "\n",
    "from pyspark.ml.evaluation import BinaryClassificationEvaluator\n",
    "\n",
    "ev = BinaryClassificationEvaluator(rawPredictionCol = \"rawPrediction\", metricName = \"areaUnderROC\")\n",
    "print(ev.evaluate(predictions))\n",
    "\n",
    "\n",
    "spark.stop()"
   ]
  }
 ],
 "metadata": {
  "kernelspec": {
   "display_name": "Python 3 (ipykernel)",
   "language": "python",
   "name": "python3"
  },
  "language_info": {
   "codemirror_mode": {
    "name": "ipython",
    "version": 3
   },
   "file_extension": ".py",
   "mimetype": "text/x-python",
   "name": "python",
   "nbconvert_exporter": "python",
   "pygments_lexer": "ipython3",
   "version": "3.8.5"
  }
 },
 "nbformat": 4,
 "nbformat_minor": 5
}
