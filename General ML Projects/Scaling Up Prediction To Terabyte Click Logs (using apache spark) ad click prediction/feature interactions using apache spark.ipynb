{
 "cells": [
  {
   "cell_type": "code",
   "execution_count": 2,
   "id": "8e26ab5b",
   "metadata": {},
   "outputs": [
    {
     "name": "stdout",
     "output_type": "stream",
     "text": [
      "['C1', 'banner_pos', 'site_id', 'site_domain', 'site_category', 'app_id', 'app_domain', 'app_category', 'device_model', 'device_type', 'device_conn_type', 'C14', 'C15', 'C16', 'C17', 'C18', 'C19', 'C20', 'C21']\n"
     ]
    }
   ],
   "source": [
    "\n",
    "from pyspark.sql import SparkSession\n",
    "\n",
    "\n",
    "spark = SparkSession\\\n",
    "    .builder\\\n",
    "    .appName(\"CTR\")\\\n",
    "    .getOrCreate()\n",
    "\n",
    "\n",
    "\n",
    "\n",
    "\n",
    "from pyspark.sql.types import StructField, StringType, StructType, IntegerType\n",
    "\n",
    "schema = StructType([\n",
    "    StructField(\"id\", StringType(), True),\n",
    "    StructField(\"click\", IntegerType(), True),\n",
    "    StructField(\"hour\", IntegerType(), True),\n",
    "    StructField(\"C1\", StringType(), True),\n",
    "    StructField(\"banner_pos\", StringType(), True),\n",
    "    StructField(\"site_id\", StringType(), True),\n",
    "    StructField(\"site_domain\", StringType(), True),\n",
    "    StructField(\"site_category\", StringType(), True),\n",
    "    StructField(\"app_id\", StringType(), True),\n",
    "    StructField(\"app_domain\", StringType(), True),\n",
    "    StructField(\"app_category\", StringType(), True),\n",
    "    StructField(\"device_id\", StringType(), True),\n",
    "    StructField(\"device_ip\", StringType(), True),\n",
    "    StructField(\"device_model\", StringType(), True),\n",
    "    StructField(\"device_type\", StringType(), True),\n",
    "    StructField(\"device_conn_type\", StringType(), True),\n",
    "    StructField(\"C14\", StringType(), True),\n",
    "    StructField(\"C15\", StringType(), True),\n",
    "    StructField(\"C16\", StringType(), True),\n",
    "    StructField(\"C17\", StringType(), True),\n",
    "    StructField(\"C18\", StringType(), True),\n",
    "    StructField(\"C19\", StringType(), True),\n",
    "    StructField(\"C20\", StringType(), True),\n",
    "    StructField(\"C21\", StringType(), True),\n",
    "])\n",
    "\n",
    "\n",
    "\n",
    "df = spark.read.csv(\"desktop/train.csv\", schema=schema, header=True)\n",
    "\n",
    "df = df.drop('id').drop('hour').drop('device_id').drop('device_ip')\n",
    "\n",
    "df = df.withColumnRenamed(\"click\", \"label\")\n",
    "\n",
    "\n",
    "\n",
    "\n",
    "df_train, df_test = df.randomSplit([0.7, 0.3], 42)\n",
    "\n",
    "df_train.cache()\n",
    "\n",
    "df_test.cache()\n",
    "\n",
    "\n",
    "\n",
    "categorical = df_train.columns\n",
    "categorical.remove('label')\n",
    "print(categorical)\n",
    "\n"
   ]
  },
  {
   "cell_type": "code",
   "execution_count": 3,
   "id": "a7a27782",
   "metadata": {},
   "outputs": [
    {
     "name": "stdout",
     "output_type": "stream",
     "text": [
      "label ~ C1+banner_pos+site_id+site_domain+site_category+app_id+app_domain+app_category+device_model+device_type+device_conn_type+C14+C15+C16+C17+C18+C19+C20+C21+C14:C15\n"
     ]
    }
   ],
   "source": [
    "\n",
    "cat_inter = ['C14', 'C15']\n",
    "\n",
    "concat = '+'.join(categorical)\n",
    "interaction = ':'.join(cat_inter)\n",
    "formula = \"label ~ \" + concat + '+' + interaction\n",
    "\n",
    "print(formula)"
   ]
  },
  {
   "cell_type": "code",
   "execution_count": 4,
   "id": "126afe7f",
   "metadata": {},
   "outputs": [
    {
     "name": "stderr",
     "output_type": "stream",
     "text": [
      "23/06/26 15:07:27 WARN package: Truncated the string representation of a plan since it was too large. This behavior can be adjusted by setting 'spark.sql.debug.maxToStringFields'.\n",
      "23/06/26 15:07:28 WARN DAGScheduler: Broadcasting large task binary with size 1227.2 KiB\n"
     ]
    },
    {
     "name": "stdout",
     "output_type": "stream",
     "text": [
      "+--------------------+\n",
      "|            features|\n",
      "+--------------------+\n",
      "|(55004,[5,7,3758,...|\n",
      "|(55004,[5,7,792,4...|\n",
      "|(55004,[5,7,792,4...|\n",
      "|(55004,[5,7,792,4...|\n",
      "|(55004,[5,7,792,4...|\n",
      "|(55004,[5,7,792,4...|\n",
      "|(55004,[5,7,792,4...|\n",
      "|(55004,[5,7,792,4...|\n",
      "|(55004,[5,7,792,4...|\n",
      "|(55004,[5,7,792,4...|\n",
      "|(55004,[5,7,792,4...|\n",
      "|(55004,[5,7,1322,...|\n",
      "|(55004,[5,7,1322,...|\n",
      "|(55004,[5,7,1539,...|\n",
      "|(55004,[5,7,14,45...|\n",
      "|(55004,[5,7,14,45...|\n",
      "|(55004,[5,7,14,45...|\n",
      "|(55004,[5,7,14,45...|\n",
      "|(55004,[5,7,14,45...|\n",
      "|(55004,[5,7,14,45...|\n",
      "+--------------------+\n",
      "only showing top 20 rows\n",
      "\n"
     ]
    },
    {
     "name": "stderr",
     "output_type": "stream",
     "text": [
      "23/06/26 17:20:17 WARN HeartbeatReceiver: Removing executor driver with no recent heartbeats: 974522 ms exceeds timeout 120000 ms\n",
      "23/06/26 17:20:17 WARN SparkContext: Killing executors is not supported by current scheduler.\n"
     ]
    }
   ],
   "source": [
    "\n",
    "from pyspark.ml.feature import RFormula\n",
    "interactor = RFormula(\n",
    "    formula=formula,\n",
    "    featuresCol=\"features\",\n",
    "    labelCol=\"label\").setHandleInvalid(\"keep\")\n",
    "\n",
    "interactor.fit(df_train).transform(df_train).select(\"features\").show()\n"
   ]
  },
  {
   "cell_type": "code",
   "execution_count": null,
   "id": "fcaee429",
   "metadata": {},
   "outputs": [],
   "source": [
    "\n",
    "from pyspark.ml.classification import LogisticRegression\n",
    "\n",
    "classifier = LogisticRegression(maxIter=20, regParam=0.000, elasticNetParam=0.000)\n",
    "\n",
    "stages = [interactor, classifier]\n",
    "\n",
    "from pyspark.ml import Pipeline\n",
    "\n",
    "pipeline = Pipeline(stages=stages)\n",
    "\n",
    "\n",
    "model = pipeline.fit(df_train)\n",
    "\n",
    "predictions = model.transform(df_test)\n",
    "\n",
    "\n",
    "predictions.cache()\n",
    "\n",
    "predictions.show()\n",
    "\n",
    "\n",
    "from pyspark.ml.evaluation import BinaryClassificationEvaluator\n",
    "\n",
    "ev = BinaryClassificationEvaluator(rawPredictionCol = \"rawPrediction\", metricName = \"areaUnderROC\")\n",
    "print(ev.evaluate(predictions))\n",
    "\n",
    "\n",
    "spark.stop()"
   ]
  }
 ],
 "metadata": {
  "kernelspec": {
   "display_name": "Python 3 (ipykernel)",
   "language": "python",
   "name": "python3"
  },
  "language_info": {
   "codemirror_mode": {
    "name": "ipython",
    "version": 3
   },
   "file_extension": ".py",
   "mimetype": "text/x-python",
   "name": "python",
   "nbconvert_exporter": "python",
   "pygments_lexer": "ipython3",
   "version": "3.8.5"
  }
 },
 "nbformat": 4,
 "nbformat_minor": 5
}
