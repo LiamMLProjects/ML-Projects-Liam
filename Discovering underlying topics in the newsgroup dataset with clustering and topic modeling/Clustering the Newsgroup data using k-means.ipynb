{
 "cells": [
  {
   "cell_type": "code",
   "execution_count": 1,
   "id": "0deb7f03",
   "metadata": {},
   "outputs": [],
   "source": [
    "\n",
    "from sklearn.datasets import fetch_20newsgroups\n",
    "\n",
    "categories = [\n",
    "    'alt.atheism',\n",
    "    'talk.religion.misc',\n",
    "    'comp.graphics',\n",
    "    'sci.space',\n",
    "]\n",
    "\n",
    "\n",
    "groups = fetch_20newsgroups(subset='all', categories=categories)\n"
   ]
  },
  {
   "cell_type": "code",
   "execution_count": 2,
   "id": "c6049375",
   "metadata": {},
   "outputs": [],
   "source": [
    "\n",
    "\n",
    "labels = groups.target\n",
    "label_names = groups.target_names\n"
   ]
  },
  {
   "cell_type": "code",
   "execution_count": 3,
   "id": "9bc87735",
   "metadata": {},
   "outputs": [
    {
     "data": {
      "text/plain": [
       "['alt.atheism', 'comp.graphics', 'sci.space', 'talk.religion.misc']"
      ]
     },
     "execution_count": 3,
     "metadata": {},
     "output_type": "execute_result"
    }
   ],
   "source": [
    "label_names"
   ]
  },
  {
   "cell_type": "code",
   "execution_count": 4,
   "id": "01fc959d",
   "metadata": {},
   "outputs": [],
   "source": [
    "\n",
    "from nltk.corpus import names\n",
    "all_names = set(names.words())\n",
    "\n",
    "\n",
    "\n",
    "\n",
    "from nltk.stem import WordNetLemmatizer\n",
    "lemmatizer = WordNetLemmatizer()\n",
    "\n",
    "data_cleaned = []\n",
    "\n",
    "for doc in groups.data:\n",
    "    doc = doc.lower()\n",
    "    doc_cleaned = ' '.join(lemmatizer.lemmatize(word) for word in doc.split() if word.isalpha() and word not in all_names)\n",
    "    data_cleaned.append(doc_cleaned)\n"
   ]
  },
  {
   "cell_type": "code",
   "execution_count": 5,
   "id": "8001c3fb",
   "metadata": {},
   "outputs": [],
   "source": [
    "\n",
    "from sklearn.feature_extraction.text import CountVectorizer\n",
    "count_vector = CountVectorizer(stop_words=\"english\", max_features=None, max_df=0.5, min_df=2)\n"
   ]
  },
  {
   "cell_type": "code",
   "execution_count": 6,
   "id": "38f43d0e",
   "metadata": {},
   "outputs": [],
   "source": [
    "\n",
    "from sklearn.feature_extraction.text import TfidfVectorizer\n",
    "tfidf_vector = TfidfVectorizer(stop_words='english', max_features=None, max_df=0.5, min_df=2)\n",
    "\n",
    "data = tfidf_vector.fit_transform(data_cleaned)\n",
    "\n"
   ]
  },
  {
   "cell_type": "code",
   "execution_count": 7,
   "id": "f3a7a0a2",
   "metadata": {},
   "outputs": [
    {
     "name": "stderr",
     "output_type": "stream",
     "text": [
      "/Users/liamalkhatib/opt/anaconda3/lib/python3.8/site-packages/sklearn/cluster/_kmeans.py:1412: FutureWarning: The default value of `n_init` will change from 10 to 'auto' in 1.4. Set the value of `n_init` explicitly to suppress the warning\n",
      "  super()._check_params_vs_input(X, default_n_init=10)\n"
     ]
    },
    {
     "name": "stdout",
     "output_type": "stream",
     "text": [
      "Counter({0: 1373, 3: 799, 1: 629, 2: 586})\n"
     ]
    }
   ],
   "source": [
    "\n",
    "from sklearn.cluster import KMeans\n",
    "\n",
    "k = 4\n",
    "kmeans = KMeans(n_clusters=k, random_state=42)\n",
    "\n",
    "kmeans.fit(data)\n",
    "\n",
    "clusters = kmeans.labels_\n",
    "\n",
    "\n",
    "\n",
    "from collections import Counter\n",
    "print(Counter(clusters))\n"
   ]
  },
  {
   "cell_type": "code",
   "execution_count": 8,
   "id": "27167f73",
   "metadata": {},
   "outputs": [
    {
     "name": "stdout",
     "output_type": "stream",
     "text": [
      "cluster_0: 1373 samples\n",
      "sci.space: 373 samples\n",
      "comp.graphics: 366 samples\n",
      "alt.atheism: 320 samples\n",
      "talk.religion.misc: 314 samples\n",
      "Top 10 terms:\n",
      " world computer new like know just ha university article wa\n",
      "cluster_1: 629 samples\n",
      "comp.graphics: 604 samples\n",
      "sci.space: 23 samples\n",
      "talk.religion.misc: 1 samples\n",
      "alt.atheism: 1 samples\n",
      "Top 10 terms:\n",
      " looking computer bit university need format program file graphic image\n",
      "cluster_2: 586 samples\n",
      "sci.space: 583 samples\n",
      "alt.atheism: 1 samples\n",
      "talk.religion.misc: 1 samples\n",
      "comp.graphics: 1 samples\n",
      "Top 10 terms:\n",
      " zoology just moon hst nasa mission launch wa shuttle space\n",
      "cluster_3: 799 samples\n",
      "alt.atheism: 477 samples\n",
      "talk.religion.misc: 312 samples\n",
      "sci.space: 8 samples\n",
      "comp.graphics: 2 samples\n",
      "Top 10 terms:\n",
      " moral morality jesus think article christian people say wa god\n"
     ]
    }
   ],
   "source": [
    "\n",
    "import numpy as np\n",
    "cluster_label = {i: labels[np.where(clusters == i)] for i in range(k)}\n",
    "\n",
    "terms = tfidf_vector.get_feature_names_out()\n",
    "centroids = kmeans.cluster_centers_\n",
    "for cluster, index_list in cluster_label.items():\n",
    "    counter = Counter(cluster_label[cluster])\n",
    "    print('cluster_{}: {} samples'.format(cluster, len(index_list)))\n",
    "    for label_index, count in sorted(counter.items(), key=lambda x: x[1], reverse=True):\n",
    "        print('{}: {} samples'.format(label_names[label_index], count))\n",
    "    print('Top 10 terms:')\n",
    "    for ind in centroids[cluster].argsort()[-10:]:\n",
    "        print(' %s' % terms[ind], end=\"\")\n",
    "    print()"
   ]
  },
  {
   "cell_type": "code",
   "execution_count": null,
   "id": "14bef022",
   "metadata": {},
   "outputs": [],
   "source": []
  },
  {
   "cell_type": "code",
   "execution_count": null,
   "id": "84f39fd6",
   "metadata": {},
   "outputs": [],
   "source": []
  }
 ],
 "metadata": {
  "kernelspec": {
   "display_name": "Python 3 (ipykernel)",
   "language": "python",
   "name": "python3"
  },
  "language_info": {
   "codemirror_mode": {
    "name": "ipython",
    "version": 3
   },
   "file_extension": ".py",
   "mimetype": "text/x-python",
   "name": "python",
   "nbconvert_exporter": "python",
   "pygments_lexer": "ipython3",
   "version": "3.8.5"
  }
 },
 "nbformat": 4,
 "nbformat_minor": 5
}
