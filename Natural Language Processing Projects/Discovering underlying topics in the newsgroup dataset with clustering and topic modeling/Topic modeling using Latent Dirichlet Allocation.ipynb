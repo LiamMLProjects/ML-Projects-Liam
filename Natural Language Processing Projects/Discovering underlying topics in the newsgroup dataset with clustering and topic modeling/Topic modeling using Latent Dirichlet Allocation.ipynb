{
 "cells": [
  {
   "cell_type": "code",
   "execution_count": 10,
   "id": "fc5426e2",
   "metadata": {},
   "outputs": [],
   "source": [
    "from sklearn.datasets import fetch_20newsgroups\n",
    "\n",
    "categories = [\n",
    "    'alt.atheism',\n",
    "    'talk.religion.misc',\n",
    "    'comp.graphics',\n",
    "    'sci.space',\n",
    "]\n"
   ]
  },
  {
   "cell_type": "code",
   "execution_count": 11,
   "id": "741c5d20",
   "metadata": {},
   "outputs": [],
   "source": [
    "groups = fetch_20newsgroups(subset='all', categories=categories)\n",
    "\n",
    "\n",
    "from nltk.corpus import names\n",
    "all_names = set(names.words())\n"
   ]
  },
  {
   "cell_type": "code",
   "execution_count": 12,
   "id": "1b877577",
   "metadata": {},
   "outputs": [],
   "source": [
    "from nltk.stem import WordNetLemmatizer\n",
    "lemmatizer = WordNetLemmatizer()\n",
    "\n",
    "data_cleaned = []\n",
    "\n",
    "for doc in groups.data:\n",
    "    doc = doc.lower()\n",
    "    doc_cleaned = ' '.join(lemmatizer.lemmatize(word) for word in doc.split() if word.isalpha() and word not in all_names)\n",
    "    data_cleaned.append(doc_cleaned)"
   ]
  },
  {
   "cell_type": "code",
   "execution_count": 13,
   "id": "2ea7ba4b",
   "metadata": {},
   "outputs": [],
   "source": [
    "from sklearn.feature_extraction.text import CountVectorizer\n",
    "count_vector = CountVectorizer(stop_words=\"english\", max_features=None, max_df=0.5, min_df=2)\n",
    "\n",
    "\n",
    "data = count_vector.fit_transform(data_cleaned)"
   ]
  },
  {
   "cell_type": "code",
   "execution_count": 14,
   "id": "ab489e94",
   "metadata": {},
   "outputs": [
    {
     "name": "stdout",
     "output_type": "stream",
     "text": [
      "[[0.05      2.05      2.05      ... 0.05      0.05      0.05     ]\n",
      " [0.05      0.05      0.05      ... 0.05      0.05      0.05     ]\n",
      " [0.05      0.05      0.05      ... 4.0336285 0.05      0.05     ]\n",
      " ...\n",
      " [0.05      0.05      0.05      ... 0.05      0.05      0.05     ]\n",
      " [0.05      0.05      0.05      ... 0.05      0.05      0.05     ]\n",
      " [0.05      0.05      0.05      ... 0.05      0.05      3.05     ]]\n"
     ]
    }
   ],
   "source": [
    "from sklearn.decomposition import LatentDirichletAllocation\n",
    "\n",
    "t = 20\n",
    "\n",
    "lda = LatentDirichletAllocation(n_components=t, learning_method='batch',random_state=42)\n",
    "\n",
    "lda.fit(data)\n",
    "\n",
    "print(lda.components_)\n",
    "\n",
    "terms = count_vector.get_feature_names_out()\n"
   ]
  },
  {
   "cell_type": "code",
   "execution_count": 16,
   "id": "1eb8fafc",
   "metadata": {},
   "outputs": [
    {
     "name": "stdout",
     "output_type": "stream",
     "text": [
      "Topic 0:\n",
      "atheist doe ha believe say jesus people christian wa god\n",
      "Topic 1:\n",
      "moment just adobe want know ha wa hacker article radius\n",
      "Topic 2:\n",
      "center point ha wa available research computer data graphic hst\n",
      "Topic 3:\n",
      "objective argument just thing doe people wa think say article\n",
      "Topic 4:\n",
      "time like brian ha good life want know just wa\n",
      "Topic 5:\n",
      "computer graphic think know need university just article wa like\n",
      "Topic 6:\n",
      "free program color doe use version gif jpeg file image\n",
      "Topic 7:\n",
      "gamma ray did know university ha just like article wa\n",
      "Topic 8:\n",
      "tool ha processing using data software color program bit image\n",
      "Topic 9:\n",
      "apr men know ha think woman just university article wa\n",
      "Topic 10:\n",
      "jpl propulsion mission april mar jet command data spacecraft wa\n",
      "Topic 11:\n",
      "russian like ha university redesign point option article space station\n",
      "Topic 12:\n",
      "ha van book star material physicist universe physical theory wa\n",
      "Topic 13:\n",
      "bank doe book law wa article rushdie muslim islam islamic\n",
      "Topic 14:\n",
      "think gopher routine point polygon book university article know wa\n",
      "Topic 15:\n",
      "ha rocket new lunar mission satellite shuttle nasa launch space\n",
      "Topic 16:\n",
      "want right article ha make like just think people wa\n",
      "Topic 17:\n",
      "just light space henry wa like zoology sky article toronto\n",
      "Topic 18:\n",
      "comet venus solar moon orbit planet earth probe ha wa\n",
      "Topic 19:\n",
      "site format image mail program available ftp send file graphic\n"
     ]
    }
   ],
   "source": [
    "for topic_idx, topic in enumerate(lda.components_):\n",
    "        print(\"Topic {}:\" .format(topic_idx))\n",
    "        print(\" \".join([terms[i] for i in topic.argsort()[-10:]]))"
   ]
  },
  {
   "cell_type": "code",
   "execution_count": null,
   "id": "82d97714",
   "metadata": {},
   "outputs": [],
   "source": []
  }
 ],
 "metadata": {
  "kernelspec": {
   "display_name": "Python 3 (ipykernel)",
   "language": "python",
   "name": "python3"
  },
  "language_info": {
   "codemirror_mode": {
    "name": "ipython",
    "version": 3
   },
   "file_extension": ".py",
   "mimetype": "text/x-python",
   "name": "python",
   "nbconvert_exporter": "python",
   "pygments_lexer": "ipython3",
   "version": "3.8.5"
  }
 },
 "nbformat": 4,
 "nbformat_minor": 5
}
